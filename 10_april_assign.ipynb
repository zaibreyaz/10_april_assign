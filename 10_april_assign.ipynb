{
 "cells": [
  {
   "cell_type": "code",
   "execution_count": null,
   "id": "0951eba3-fa64-4d00-bfb7-856a3d984f46",
   "metadata": {},
   "outputs": [],
   "source": [
    "\"\"\"Q1. A company conducted a survey of its employees and found that 70% of the employees use the\n",
    "company's health insurance plan, while 40% of the employees who use the plan are smokers. What is the\n",
    "probability that an employee is a smoker given that he/she uses the health insurance plan?\n",
    "\"\"\"\n",
    "\n",
    "\"\"\"Ans: \n",
    "\n",
    "Let A be the event that an employee uses the health insurance plan, and B be the event that an employee is a smoker. Then, we want to find P(B|A), the probability that an \n",
    "employee is a smoker given that he/she uses the health insurance plan.\n",
    "P(A) = 0.7 (70% of employees use the health insurance plan)\n",
    "P(B|A) = 0.4 (40% of employees who use the plan are smokers)\n",
    "\n",
    "P(B) = P(B|A) * P(A) + P(B|not A) * P(not A)\n",
    "P(B|not A) = (1 - P(A)) * x = (1 - 0.7) * 0.2 = 0.06\n",
    "P(B) = 0.4 * 0.7 + 0.06 * 0.3 = 0.34\n",
    "\n",
    "P(B|A) = P(A|B) * P(B) / P(A)\n",
    "P(A|B) = P(B|A) * P(A) / P(B) = 0.4 * 0.7 / 0.34 = 0.82\n",
    "P(B|A) = P(A|B) * P(B) / P(A) = 0.82 * 0.34 / 0.7 = 0.195\n",
    "\n",
    "Therefore, the probability that an employee is a smoker given that he/she uses the health insurance plan is 0.195 or approximately 19.5%.\n",
    "\n",
    "\"\"\""
   ]
  },
  {
   "cell_type": "code",
   "execution_count": null,
   "id": "b72864e8-a98e-49f9-9759-9536015bfabb",
   "metadata": {},
   "outputs": [],
   "source": [
    "\"\"\"Q2. What is the difference between Bernoulli Naive Bayes and Multinomial Naive Bayes?\n",
    "\n",
    "    Ans: The main difference between Bernoulli Naive Bayes and Multinomial Naive Bayes is in the way they model the distribution of the features. Bernoulli Naive Bayes assumes \n",
    "         that each feature is binary and takes on only two values, while Multinomial Naive Bayes assumes that each feature is a count of the number of occurrences of a \n",
    "         particular event. This means that Bernoulli Naive Bayes is appropriate for binary data, while Multinomial Naive Bayes is appropriate for count data.\n",
    "\"\"\""
   ]
  },
  {
   "cell_type": "code",
   "execution_count": null,
   "id": "625b75c0-31ca-4927-9e07-8d569b04e399",
   "metadata": {},
   "outputs": [],
   "source": [
    "\"\"\"Q3. How does Bernoulli Naive Bayes handle missing values?\n",
    "\n",
    "    Ans: Bernoulli Naive Bayes assumes that each feature is binary and takes on only two values, typically 0 and 1. Therefore, missing values are usually imputed with either \n",
    "         0 or 1, depending on the context and the nature of the missingness. In practice, this can lead to biased or inaccurate estimates, especially if the missing data are\n",
    "         not missing completely at random. One way to mitigate this problem is to use other imputation methods, such as mean imputation or regression imputation, before applying \n",
    "         Bernoulli Naive Bayes.\n",
    "\"\"\""
   ]
  },
  {
   "cell_type": "code",
   "execution_count": null,
   "id": "ca9de9d5-6be3-46c7-a680-9a53e3f61fe4",
   "metadata": {},
   "outputs": [],
   "source": [
    "\"\"\"Q4. Can Gaussian Naive Bayes be used for multi-class classification?\n",
    "\n",
    "    Ans: Yes, Gaussian Naive Bayes can be used for multi-class classification by extending the algorithm to handle multiple classes. One common approach is to train separate \n",
    "         binary classifiers for each class and then use a voting or ranking scheme to make the final classification decision.\n",
    "\"\"\""
   ]
  },
  {
   "cell_type": "code",
   "execution_count": null,
   "id": "8e05ec1a-2d9d-4a7a-a6c4-c771729196f0",
   "metadata": {},
   "outputs": [],
   "source": [
    "\"\"\"Q5. Assignment:\n",
    "Data preparation:\n",
    "Download the \"Spambase Data Set\" from the UCI Machine Learning Repository (https://archive.ics.uci.edu/ml/datasets/Spambase). \n",
    "This dataset contains email messages, where the goal is to predict whether a message\n",
    "is spam or not based on several input features.\n",
    "Implementation:\n",
    "Implement Bernoulli Naive Bayes, Multinomial Naive Bayes, and Gaussian Naive Bayes classifiers using the\n",
    "scikit-learn library in Python. Use 10-fold cross-validation to evaluate the performance of each classifier on the dataset. \n",
    "You should use the default hyperparameters for each classifier.\n",
    "Results:\n",
    "Report the following performance metrics for each classifier:\n",
    "Accuracy\n",
    "Precision\n",
    "Recall\n",
    "F1 score\n",
    "Discussion:\n",
    "Discuss the results you obtained. Which variant of Naive Bayes performed the best? Why do you think that is\n",
    "the case? Are there any limitations of Naive Bayes that you observed?\n",
    "Conclusion:\n",
    "Summarise your findings and provide some suggestions for future work.\n",
    "\n",
    "Note: Create your assignment in Jupyter notebook and upload it to GitHub & share that github repository\n",
    "link through your dashboard. Make sure the repository is public.\n",
    "Note: This dataset contains a binary classification problem with multiple features. The dataset is\n",
    "relatively small, but it can be used to demonstrate the performance of the different variants of Naive\n",
    "Bayes on a real-world problem.\"\"\""
   ]
  },
  {
   "cell_type": "code",
   "execution_count": 34,
   "id": "c493b538-75d2-4c1a-a3a9-4cd9d49d40c4",
   "metadata": {},
   "outputs": [],
   "source": [
    "import pandas as pd"
   ]
  },
  {
   "cell_type": "code",
   "execution_count": 35,
   "id": "1ca1c832-2d08-4415-90de-4468b254e626",
   "metadata": {},
   "outputs": [
    {
     "data": {
      "text/html": [
       "<div>\n",
       "<style scoped>\n",
       "    .dataframe tbody tr th:only-of-type {\n",
       "        vertical-align: middle;\n",
       "    }\n",
       "\n",
       "    .dataframe tbody tr th {\n",
       "        vertical-align: top;\n",
       "    }\n",
       "\n",
       "    .dataframe thead th {\n",
       "        text-align: right;\n",
       "    }\n",
       "</style>\n",
       "<table border=\"1\" class=\"dataframe\">\n",
       "  <thead>\n",
       "    <tr style=\"text-align: right;\">\n",
       "      <th></th>\n",
       "      <th>0</th>\n",
       "      <th>1</th>\n",
       "      <th>2</th>\n",
       "      <th>3</th>\n",
       "      <th>4</th>\n",
       "      <th>5</th>\n",
       "      <th>6</th>\n",
       "      <th>7</th>\n",
       "      <th>8</th>\n",
       "      <th>9</th>\n",
       "      <th>...</th>\n",
       "      <th>48</th>\n",
       "      <th>49</th>\n",
       "      <th>50</th>\n",
       "      <th>51</th>\n",
       "      <th>52</th>\n",
       "      <th>53</th>\n",
       "      <th>54</th>\n",
       "      <th>55</th>\n",
       "      <th>56</th>\n",
       "      <th>57</th>\n",
       "    </tr>\n",
       "  </thead>\n",
       "  <tbody>\n",
       "    <tr>\n",
       "      <th>0</th>\n",
       "      <td>0.00</td>\n",
       "      <td>0.64</td>\n",
       "      <td>0.64</td>\n",
       "      <td>0.0</td>\n",
       "      <td>0.32</td>\n",
       "      <td>0.00</td>\n",
       "      <td>0.00</td>\n",
       "      <td>0.00</td>\n",
       "      <td>0.00</td>\n",
       "      <td>0.00</td>\n",
       "      <td>...</td>\n",
       "      <td>0.00</td>\n",
       "      <td>0.000</td>\n",
       "      <td>0.0</td>\n",
       "      <td>0.778</td>\n",
       "      <td>0.000</td>\n",
       "      <td>0.000</td>\n",
       "      <td>3.756</td>\n",
       "      <td>61</td>\n",
       "      <td>278</td>\n",
       "      <td>1</td>\n",
       "    </tr>\n",
       "    <tr>\n",
       "      <th>1</th>\n",
       "      <td>0.21</td>\n",
       "      <td>0.28</td>\n",
       "      <td>0.50</td>\n",
       "      <td>0.0</td>\n",
       "      <td>0.14</td>\n",
       "      <td>0.28</td>\n",
       "      <td>0.21</td>\n",
       "      <td>0.07</td>\n",
       "      <td>0.00</td>\n",
       "      <td>0.94</td>\n",
       "      <td>...</td>\n",
       "      <td>0.00</td>\n",
       "      <td>0.132</td>\n",
       "      <td>0.0</td>\n",
       "      <td>0.372</td>\n",
       "      <td>0.180</td>\n",
       "      <td>0.048</td>\n",
       "      <td>5.114</td>\n",
       "      <td>101</td>\n",
       "      <td>1028</td>\n",
       "      <td>1</td>\n",
       "    </tr>\n",
       "    <tr>\n",
       "      <th>2</th>\n",
       "      <td>0.06</td>\n",
       "      <td>0.00</td>\n",
       "      <td>0.71</td>\n",
       "      <td>0.0</td>\n",
       "      <td>1.23</td>\n",
       "      <td>0.19</td>\n",
       "      <td>0.19</td>\n",
       "      <td>0.12</td>\n",
       "      <td>0.64</td>\n",
       "      <td>0.25</td>\n",
       "      <td>...</td>\n",
       "      <td>0.01</td>\n",
       "      <td>0.143</td>\n",
       "      <td>0.0</td>\n",
       "      <td>0.276</td>\n",
       "      <td>0.184</td>\n",
       "      <td>0.010</td>\n",
       "      <td>9.821</td>\n",
       "      <td>485</td>\n",
       "      <td>2259</td>\n",
       "      <td>1</td>\n",
       "    </tr>\n",
       "    <tr>\n",
       "      <th>3</th>\n",
       "      <td>0.00</td>\n",
       "      <td>0.00</td>\n",
       "      <td>0.00</td>\n",
       "      <td>0.0</td>\n",
       "      <td>0.63</td>\n",
       "      <td>0.00</td>\n",
       "      <td>0.31</td>\n",
       "      <td>0.63</td>\n",
       "      <td>0.31</td>\n",
       "      <td>0.63</td>\n",
       "      <td>...</td>\n",
       "      <td>0.00</td>\n",
       "      <td>0.137</td>\n",
       "      <td>0.0</td>\n",
       "      <td>0.137</td>\n",
       "      <td>0.000</td>\n",
       "      <td>0.000</td>\n",
       "      <td>3.537</td>\n",
       "      <td>40</td>\n",
       "      <td>191</td>\n",
       "      <td>1</td>\n",
       "    </tr>\n",
       "    <tr>\n",
       "      <th>4</th>\n",
       "      <td>0.00</td>\n",
       "      <td>0.00</td>\n",
       "      <td>0.00</td>\n",
       "      <td>0.0</td>\n",
       "      <td>0.63</td>\n",
       "      <td>0.00</td>\n",
       "      <td>0.31</td>\n",
       "      <td>0.63</td>\n",
       "      <td>0.31</td>\n",
       "      <td>0.63</td>\n",
       "      <td>...</td>\n",
       "      <td>0.00</td>\n",
       "      <td>0.135</td>\n",
       "      <td>0.0</td>\n",
       "      <td>0.135</td>\n",
       "      <td>0.000</td>\n",
       "      <td>0.000</td>\n",
       "      <td>3.537</td>\n",
       "      <td>40</td>\n",
       "      <td>191</td>\n",
       "      <td>1</td>\n",
       "    </tr>\n",
       "  </tbody>\n",
       "</table>\n",
       "<p>5 rows × 58 columns</p>\n",
       "</div>"
      ],
      "text/plain": [
       "     0     1     2    3     4     5     6     7     8     9   ...    48  \\\n",
       "0  0.00  0.64  0.64  0.0  0.32  0.00  0.00  0.00  0.00  0.00  ...  0.00   \n",
       "1  0.21  0.28  0.50  0.0  0.14  0.28  0.21  0.07  0.00  0.94  ...  0.00   \n",
       "2  0.06  0.00  0.71  0.0  1.23  0.19  0.19  0.12  0.64  0.25  ...  0.01   \n",
       "3  0.00  0.00  0.00  0.0  0.63  0.00  0.31  0.63  0.31  0.63  ...  0.00   \n",
       "4  0.00  0.00  0.00  0.0  0.63  0.00  0.31  0.63  0.31  0.63  ...  0.00   \n",
       "\n",
       "      49   50     51     52     53     54   55    56  57  \n",
       "0  0.000  0.0  0.778  0.000  0.000  3.756   61   278   1  \n",
       "1  0.132  0.0  0.372  0.180  0.048  5.114  101  1028   1  \n",
       "2  0.143  0.0  0.276  0.184  0.010  9.821  485  2259   1  \n",
       "3  0.137  0.0  0.137  0.000  0.000  3.537   40   191   1  \n",
       "4  0.135  0.0  0.135  0.000  0.000  3.537   40   191   1  \n",
       "\n",
       "[5 rows x 58 columns]"
      ]
     },
     "execution_count": 35,
     "metadata": {},
     "output_type": "execute_result"
    }
   ],
   "source": [
    "df = pd.read_csv('spambase.data',header=None)\n",
    "df.head()"
   ]
  },
  {
   "cell_type": "code",
   "execution_count": 36,
   "id": "7fe29a1a-da9a-4039-b89c-0a4d5c90a470",
   "metadata": {},
   "outputs": [],
   "source": [
    "X = df.iloc[:,:-1]\n",
    "y = df.iloc[:, -1]"
   ]
  },
  {
   "cell_type": "code",
   "execution_count": 37,
   "id": "4a72a761-1024-46af-84b6-a8adc933fa2d",
   "metadata": {},
   "outputs": [
    {
     "data": {
      "text/plain": [
       "0    2788\n",
       "1    1813\n",
       "Name: 57, dtype: int64"
      ]
     },
     "execution_count": 37,
     "metadata": {},
     "output_type": "execute_result"
    }
   ],
   "source": [
    "y.value_counts()"
   ]
  },
  {
   "cell_type": "code",
   "execution_count": 38,
   "id": "890942bd-14ff-493c-8184-beb1482da5b2",
   "metadata": {},
   "outputs": [],
   "source": [
    "from sklearn.model_selection import train_test_split\n",
    "X_train,X_test,y_train,y_test = train_test_split(X,y,test_size=0.3,random_state=69)"
   ]
  },
  {
   "cell_type": "code",
   "execution_count": 39,
   "id": "07d9c097-eb91-4b95-be40-e27c76adac0e",
   "metadata": {},
   "outputs": [],
   "source": [
    "from sklearn.naive_bayes import MultinomialNB,BernoulliNB,GaussianNB\n",
    "from sklearn.metrics import accuracy_score,classification_report,confusion_matrix\n",
    "from sklearn.model_selection import GridSearchCV"
   ]
  },
  {
   "cell_type": "markdown",
   "id": "38849175-0158-4ceb-8011-6901dd6405a3",
   "metadata": {},
   "source": [
    "## BernoulliNB()"
   ]
  },
  {
   "cell_type": "code",
   "execution_count": 40,
   "id": "91beb3d2-a039-427f-bf3d-c1cfd87da32b",
   "metadata": {},
   "outputs": [
    {
     "name": "stdout",
     "output_type": "stream",
     "text": [
      "[[776  48]\n",
      " [100 457]]\n",
      "0.8928312816799421\n",
      "              precision    recall  f1-score   support\n",
      "\n",
      "           0       0.89      0.94      0.91       824\n",
      "           1       0.90      0.82      0.86       557\n",
      "\n",
      "    accuracy                           0.89      1381\n",
      "   macro avg       0.90      0.88      0.89      1381\n",
      "weighted avg       0.89      0.89      0.89      1381\n",
      "\n"
     ]
    }
   ],
   "source": [
    "bnb = BernoulliNB()\n",
    "bnb.fit(X_train,y_train)\n",
    "y_p1 = bnb.predict(X_test)\n",
    "print(confusion_matrix(y_test,y_p1))\n",
    "print(accuracy_score(y_test,y_p1))\n",
    "print(classification_report(y_test,y_p1))"
   ]
  },
  {
   "cell_type": "code",
   "execution_count": 41,
   "id": "49788821-26a8-4aef-9060-02c5606ca1e7",
   "metadata": {},
   "outputs": [
    {
     "name": "stdout",
     "output_type": "stream",
     "text": [
      "{'alpha': 1.0, 'binarize': 0.5, 'class_prior': None, 'fit_prior': True}\n",
      "0.9027950310559006\n"
     ]
    }
   ],
   "source": [
    "p = {\n",
    "    'alpha': [0.1, 1.0, 10.0],\n",
    "    'binarize': [0.0, 0.5, 1.0],\n",
    "    'fit_prior': [True, False],\n",
    "    'class_prior': [None, [0.3, 0.7], [0.5, 0.5]]\n",
    "}\n",
    "bnb_G = GridSearchCV(BernoulliNB(),param_grid=p,cv=10)\n",
    "bnb_G.fit(X_train, y_train)\n",
    "print(bnb_G.best_params_)\n",
    "print(bnb_G.best_score_)"
   ]
  },
  {
   "cell_type": "code",
   "execution_count": 42,
   "id": "f0066e60-dd3c-4fdd-8714-7683cb325404",
   "metadata": {},
   "outputs": [
    {
     "name": "stdout",
     "output_type": "stream",
     "text": [
      "[[743  81]\n",
      " [ 81 476]]\n",
      "0.8826937002172339\n",
      "              precision    recall  f1-score   support\n",
      "\n",
      "           0       0.90      0.90      0.90       824\n",
      "           1       0.85      0.85      0.85       557\n",
      "\n",
      "    accuracy                           0.88      1381\n",
      "   macro avg       0.88      0.88      0.88      1381\n",
      "weighted avg       0.88      0.88      0.88      1381\n",
      "\n"
     ]
    }
   ],
   "source": [
    "y_p2 = bnb_G.predict(X_test)\n",
    "print(confusion_matrix(y_test,y_p2))\n",
    "print(accuracy_score(y_test,y_p2))\n",
    "print(classification_report(y_test,y_p2))"
   ]
  },
  {
   "cell_type": "markdown",
   "id": "7aad13d6-31a2-4ae1-8c77-85b540a48dc1",
   "metadata": {},
   "source": [
    "## GaussianNB()"
   ]
  },
  {
   "cell_type": "code",
   "execution_count": 43,
   "id": "a5ad3ba1-4936-443b-9369-98300c086620",
   "metadata": {},
   "outputs": [
    {
     "name": "stdout",
     "output_type": "stream",
     "text": [
      "[[596 228]\n",
      " [ 34 523]]\n",
      "0.8102824040550326\n",
      "              precision    recall  f1-score   support\n",
      "\n",
      "           0       0.95      0.72      0.82       824\n",
      "           1       0.70      0.94      0.80       557\n",
      "\n",
      "    accuracy                           0.81      1381\n",
      "   macro avg       0.82      0.83      0.81      1381\n",
      "weighted avg       0.85      0.81      0.81      1381\n",
      "\n"
     ]
    }
   ],
   "source": [
    "gnb = GaussianNB()\n",
    "gnb.fit(X_train,y_train)\n",
    "y_p1 = gnb.predict(X_test)\n",
    "print(confusion_matrix(y_test,y_p1))\n",
    "print(accuracy_score(y_test,y_p1))\n",
    "print(classification_report(y_test,y_p1))"
   ]
  },
  {
   "cell_type": "code",
   "execution_count": 44,
   "id": "63b032ba-abe1-403e-a2ac-d42a56e623ac",
   "metadata": {},
   "outputs": [
    {
     "name": "stdout",
     "output_type": "stream",
     "text": [
      "{'var_smoothing': 1e-06}\n",
      "0.8770186335403727\n",
      "[[742  82]\n",
      " [ 97 460]]\n",
      "0.8703837798696596\n",
      "              precision    recall  f1-score   support\n",
      "\n",
      "           0       0.88      0.90      0.89       824\n",
      "           1       0.85      0.83      0.84       557\n",
      "\n",
      "    accuracy                           0.87      1381\n",
      "   macro avg       0.87      0.86      0.86      1381\n",
      "weighted avg       0.87      0.87      0.87      1381\n",
      "\n"
     ]
    }
   ],
   "source": [
    "p = {\n",
    "    'var_smoothing': [1e-09, 1e-08, 1e-07, 1e-06, 1e-05, 1e-04, 1e-03, 1e-02, 1e-01]\n",
    "}\n",
    "gnb_G = GridSearchCV(GaussianNB(),param_grid=p,cv=10)\n",
    "gnb_G.fit(X_train, y_train)\n",
    "print(gnb_G.best_params_)\n",
    "print(gnb_G.best_score_)\n",
    "y_p2 = gnb_G.predict(X_test)\n",
    "print(confusion_matrix(y_test,y_p2))\n",
    "print(accuracy_score(y_test,y_p2))\n",
    "print(classification_report(y_test,y_p2))"
   ]
  },
  {
   "cell_type": "markdown",
   "id": "1b3989e7-b279-4a42-8531-2b550dd43692",
   "metadata": {},
   "source": [
    "## MultinomialNB()"
   ]
  },
  {
   "cell_type": "code",
   "execution_count": 45,
   "id": "fe25ade8-971f-4d63-9849-862374cbec07",
   "metadata": {},
   "outputs": [
    {
     "name": "stdout",
     "output_type": "stream",
     "text": [
      "[[676 148]\n",
      " [168 389]]\n",
      "0.7711803041274439\n",
      "              precision    recall  f1-score   support\n",
      "\n",
      "           0       0.80      0.82      0.81       824\n",
      "           1       0.72      0.70      0.71       557\n",
      "\n",
      "    accuracy                           0.77      1381\n",
      "   macro avg       0.76      0.76      0.76      1381\n",
      "weighted avg       0.77      0.77      0.77      1381\n",
      "\n"
     ]
    }
   ],
   "source": [
    "mnb = MultinomialNB()\n",
    "mnb.fit(X_train,y_train)\n",
    "y_p1 = mnb.predict(X_test)\n",
    "print(confusion_matrix(y_test,y_p1))\n",
    "print(accuracy_score(y_test,y_p1))\n",
    "print(classification_report(y_test,y_p1))"
   ]
  },
  {
   "cell_type": "code",
   "execution_count": 46,
   "id": "268d3463-46a7-4dd8-8ac7-5b3670a557db",
   "metadata": {},
   "outputs": [
    {
     "name": "stdout",
     "output_type": "stream",
     "text": [
      "{'alpha': 0.1, 'class_prior': [0.7, 0.3], 'fit_prior': True}\n",
      "0.8065217391304348\n",
      "[[698 126]\n",
      " [173 384]]\n",
      "0.7834902244750181\n",
      "              precision    recall  f1-score   support\n",
      "\n",
      "           0       0.80      0.85      0.82       824\n",
      "           1       0.75      0.69      0.72       557\n",
      "\n",
      "    accuracy                           0.78      1381\n",
      "   macro avg       0.78      0.77      0.77      1381\n",
      "weighted avg       0.78      0.78      0.78      1381\n",
      "\n"
     ]
    }
   ],
   "source": [
    "p = {\n",
    "    'alpha': [0.1, 0.5, 1.0],\n",
    "    'fit_prior': [True, False],\n",
    "    'class_prior': [None, [0.5, 0.5], [0.7, 0.3]]\n",
    "}\n",
    "mnb_G = GridSearchCV(MultinomialNB(),param_grid=p,cv=10)\n",
    "mnb_G.fit(X_train, y_train)\n",
    "print(mnb_G.best_params_)\n",
    "print(mnb_G.best_score_)\n",
    "y_p2 = mnb_G.predict(X_test)\n",
    "print(confusion_matrix(y_test,y_p2))\n",
    "print(accuracy_score(y_test,y_p2))\n",
    "print(classification_report(y_test,y_p2))"
   ]
  },
  {
   "cell_type": "markdown",
   "id": "1644c18e-d56e-4161-b202-39f7eb1a412a",
   "metadata": {},
   "source": [
    "# Accuracies: \n",
    "- BernoulliNB = 0.8826937002172339\n",
    "- gaussianNB = 0.8703837798696596\n",
    "- MultinomialNB = 0.7834902244750181"
   ]
  },
  {
   "cell_type": "markdown",
   "id": "7688bd2a-7e7e-4c81-86e9-3fa23588a582",
   "metadata": {},
   "source": [
    "### Bernoullis Naive Baye's gave us the best result as the dataset is an sparse matrix as there are lots of 0's in dataset and Dataset is not exactly bernoulli but the values are very close to 0 and 1 rather than any other values."
   ]
  },
  {
   "cell_type": "markdown",
   "id": "90d0f423-680f-45be-9ef3-e2004f87e4eb",
   "metadata": {},
   "source": [
    "### Limitation on Bernoulli Naive Baye's was it works best in bernoulli(0 and 1) type of dataset "
   ]
  },
  {
   "cell_type": "code",
   "execution_count": null,
   "id": "91b70d5b-50d2-4d66-9930-dcfef9242225",
   "metadata": {},
   "outputs": [],
   "source": []
  }
 ],
 "metadata": {
  "kernelspec": {
   "display_name": "Python 3 (ipykernel)",
   "language": "python",
   "name": "python3"
  },
  "language_info": {
   "codemirror_mode": {
    "name": "ipython",
    "version": 3
   },
   "file_extension": ".py",
   "mimetype": "text/x-python",
   "name": "python",
   "nbconvert_exporter": "python",
   "pygments_lexer": "ipython3",
   "version": "3.10.8"
  }
 },
 "nbformat": 4,
 "nbformat_minor": 5
}
